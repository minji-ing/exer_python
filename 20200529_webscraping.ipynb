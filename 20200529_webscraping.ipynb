{
 "cells": [
  {
   "cell_type": "code",
   "execution_count": 8,
   "metadata": {},
   "outputs": [
    {
     "output_type": "stream",
     "name": "stdout",
     "text": "사랑하게 될 줄 알았어|전미도\n에잇(Prod.&Feat. SUGA of BTS)|아이유\n아로하|조정석\n나비와 고양이 (feat.백현 (BAEKHYUN))|볼빨간사춘기\n살짝 설렜어 (Nonstop)|오마이걸\nCandy|백현 (BAEKHYUN)\n너에게 난, 나에게 넌|미도와 파라솔\n좋은 사람 있으면 소개시켜줘|조이 (JOY)\nON|방탄소년단\n화려하지 않은 고백|규현 (KYUHYUN)\n작은 것들을 위한 시 (Boy With Luv) (Feat. Halsey)|방탄소년단\n너를 사랑하고 있어|백현 (BAEKHYUN)\n시작|가호 (Gaho)\n그대 고운 내사랑|어반자카파\n처음처럼|엠씨더맥스 (M.C the MAX)\nBungee|백현 (BAEKHYUN)\n덤더럼(Dumhdurum)|Apink (에이핑크)\nLove Again|백현 (BAEKHYUN)\n흔들리는 꽃들 속에서 네 샴푸향이 느껴진거야|장범준\nBlueming|아이유\nDolphin|오마이걸\n내 눈물 모아|휘인 (Whee In)\n00:00 (Zero O’Clock)|방탄소년단\nUnderwater|백현 (BAEKHYUN)\nPoppin'|백현 (BAEKHYUN)\n아무노래|지코 (ZICO)\nBlack Swan|방탄소년단\nR U Ridin'?|백현 (BAEKHYUN)\nDance Monkey|Tones And I\nGhost|백현 (BAEKHYUN)\nMETEOR|창모 (CHANGMO)\n너에게 가는 이 길 위에서 (너.이.길)|백현 (BAEKHYUN)\n친구|방탄소년단\n이제 나만 믿어요|임영웅\nFilter|방탄소년단\nMoon|방탄소년단\n시차|방탄소년단\nHappy|태연 (TAEYEON)\nDon't Start Now|Dua Lipa\nInner Child|방탄소년단\nObsession|EXO\nWe are Bulletproof : the Eternal|방탄소년단\nLouder than bombs|방탄소년단\nMemories|Maroon 5\n마음을 드려요|아이유\n욱 (UGH!)|방탄소년단\n그때 그 아인|김필\nInterlude : Shadow|방탄소년단\n돌덩이|하현우 (국카스텐)\n2002|Anne-Marie\n"
    }
   ],
   "source": [
    "# 사용할 모듈 import\n",
    "from selenium import webdriver\n",
    "from bs4 import BeautifulSoup\n",
    "\n",
    "# 파싱에 사용할 드라이버 경로 지정\n",
    "driver = webdriver.Chrome('D:/webCrawling/chromedriver.exe')\n",
    "# 정보 가져올 url 설정 (멜론 차트 50)\n",
    "url = 'http://www.melon.com/chart/index.htm'\n",
    "# driver 사용하여 url 접속\n",
    "driver.get(url)\n",
    "# 접속한 url의 페이지 정보 불러오기\n",
    "html = driver.page_source\n",
    "# 불러온 정보 파싱\n",
    "soup = BeautifulSoup(html, 'html.parser')\n",
    "\n",
    "# 페이지 정보에서 가져오고 싶은 부분 지정\n",
    "# 차트 한 줄씩 가져오기 위해 html에서 해당 부분 class 이름 찾아서 select\n",
    "songs = soup.select('#lst50')\n",
    "\n",
    "# 한 줄씩 가져온 차트 정보에서 제목, 가수 텍스트만 불러오기 위해 루프 실행\n",
    "# html에서 제목과 가수 부분에 해당하는 class 찾아서 select\n",
    "for song in songs:\n",
    "    title = song.select('div.ellipsis.rank01 > span > a')[0].text\n",
    "    singer = song.select('div.ellipsis.rank02 > a')[0].text\n",
    "    print(title, singer, sep = '|')"
   ]
  },
  {
   "cell_type": "code",
   "execution_count": null,
   "metadata": {},
   "outputs": [],
   "source": []
  }
 ],
 "metadata": {
  "language_info": {
   "codemirror_mode": {
    "name": "ipython",
    "version": 3
   },
   "file_extension": ".py",
   "mimetype": "text/x-python",
   "name": "python",
   "nbconvert_exporter": "python",
   "pygments_lexer": "ipython3",
   "version": "3.8.3-final"
  },
  "orig_nbformat": 2,
  "kernelspec": {
   "name": "python38332bit349cc2d196a74ae294d57b258faa6317",
   "display_name": "Python 3.8.3 32-bit"
  }
 },
 "nbformat": 4,
 "nbformat_minor": 2
}